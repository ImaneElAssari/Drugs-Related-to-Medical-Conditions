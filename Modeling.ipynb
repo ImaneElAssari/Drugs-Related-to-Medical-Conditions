{
  "nbformat": 4,
  "nbformat_minor": 0,
  "metadata": {
    "colab": {
      "provenance": [],
      "authorship_tag": "ABX9TyPBl5U2joWLP11a30jUVsZU",
      "include_colab_link": true
    },
    "kernelspec": {
      "name": "python3",
      "display_name": "Python 3"
    },
    "language_info": {
      "name": "python"
    }
  },
  "cells": [
    {
      "cell_type": "markdown",
      "metadata": {
        "id": "view-in-github",
        "colab_type": "text"
      },
      "source": [
        "<a href=\"https://colab.research.google.com/github/ImaneElAssari/Drugs-Related-to-Medical-Conditions/blob/master/Modeling.ipynb\" target=\"_parent\"><img src=\"https://colab.research.google.com/assets/colab-badge.svg\" alt=\"Open In Colab\"/></a>"
      ]
    },
    {
      "cell_type": "code",
      "execution_count": 17,
      "metadata": {
        "id": "1u5qvLhbhTvd"
      },
      "outputs": [],
      "source": [
        "import pandas as pd\n",
        "import numpy as np\n",
        "\n",
        "from sklearn.model_selection import train_test_split\n",
        "\n",
        "from sklearn.model_selection import GridSearchCV\n",
        "from sklearn.ensemble import GradientBoostingRegressor\n",
        "from sklearn.ensemble import RandomForestRegressor\n",
        "\n",
        "\n",
        "from sklearn.metrics import mean_squared_error\n",
        "from sklearn.metrics import r2_score\n",
        "from sklearn.metrics import mean_absolute_error\n"
      ]
    },
    {
      "cell_type": "code",
      "source": [
        "df=pd.read_csv('/content/drugs_for_common_treatments_cleaned.csv')"
      ],
      "metadata": {
        "id": "eAMWGkt1haxr"
      },
      "execution_count": 18,
      "outputs": []
    },
    {
      "cell_type": "markdown",
      "source": [
        "# Train Test Split"
      ],
      "metadata": {
        "id": "k0dhVVkJhVkk"
      }
    },
    {
      "cell_type": "markdown",
      "source": [
        "Réservation de 80% des données pour la phase d'entrainement et 20% pour la phase de test."
      ],
      "metadata": {
        "id": "dVl-7fvTAdIf"
      }
    },
    {
      "cell_type": "code",
      "source": [
        "#Définition de X et Y\n",
        "X=df.drop(['rating'],axis=1)\n",
        "Y=df['rating']\n",
        "\n",
        "# train_test_split \n",
        "from sklearn.model_selection import train_test_split\n",
        "\n",
        "x_train, x_test, y_train, y_test = train_test_split(X, Y, test_size=0.2, random_state=42)\n",
        "print('X_train taille:',x_train.shape)\n",
        "print('X_test taille:',x_test.shape)\n",
        "print('y_train taille:',y_train.shape)\n",
        "print('y_test taille:',y_test.shape)\n",
        "\n"
      ],
      "metadata": {
        "colab": {
          "base_uri": "https://localhost:8080/"
        },
        "id": "kmTH13EohVH7",
        "outputId": "45246d13-d4ad-41bf-b31c-5135b0640e10"
      },
      "execution_count": 19,
      "outputs": [
        {
          "output_type": "stream",
          "name": "stdout",
          "text": [
            "X_train taille: (1693, 40)\n",
            "X_test taille: (424, 40)\n",
            "y_train taille: (1693,)\n",
            "y_test taille: (424,)\n"
          ]
        }
      ]
    },
    {
      "cell_type": "markdown",
      "source": [
        "# Models Implementation"
      ],
      "metadata": {
        "id": "0mdTIxDMi0V6"
      }
    },
    {
      "cell_type": "markdown",
      "source": [
        "**GradientBoostingRegressor**"
      ],
      "metadata": {
        "id": "ISp4gNiEn5yX"
      }
    },
    {
      "cell_type": "markdown",
      "source": [
        "L'utilisation de GridSearch va faciliter le Hyperparameters tunning j'ai aussi utilisé la technique du cross-validation (with 5 folds)."
      ],
      "metadata": {
        "id": "7SYF5vUOH2zX"
      }
    },
    {
      "cell_type": "code",
      "source": [
        "#from sklearn.model_selection import cross_validate, GridSearchCV\n",
        "\n",
        "gbr = GradientBoostingRegressor(random_state=0)\n",
        "params = {\n",
        "    \"loss\": (\"squared_error\", \"absolute_error\"),\n",
        "    \"learning_rate\": (1.0, 0.1, 0.01),\n",
        "    \"n_estimators\": (150, 200, 250, 300)\n",
        "}\n",
        "reg1 = GridSearchCV(gbr, params, cv=5)\n",
        "reg1.fit(x_train, y_train)\n",
        "print(\"Best hyperparameter:\", reg1.best_params_)"
      ],
      "metadata": {
        "colab": {
          "base_uri": "https://localhost:8080/"
        },
        "id": "aElrAwCgW5N4",
        "outputId": "b4dfefc2-cafa-42fc-bffd-8bb3c6166da6"
      },
      "execution_count": 20,
      "outputs": [
        {
          "output_type": "stream",
          "name": "stdout",
          "text": [
            "Best hyperparameter: {'learning_rate': 0.1, 'loss': 'squared_error', 'n_estimators': 150}\n"
          ]
        }
      ]
    },
    {
      "cell_type": "markdown",
      "source": [
        "**Random Forest Regressor**"
      ],
      "metadata": {
        "id": "Ul7xW316Mbdj"
      }
    },
    {
      "cell_type": "code",
      "source": [
        "from sklearn.ensemble import RandomForestRegressor\n",
        "param_grid = {'n_estimators': [100, 200, 300], 'max_depth': [None, 3, 5, 10, 15]}\n",
        "\n",
        "rf = RandomForestRegressor(random_state=0)\n",
        "reg2=GridSearchCV(rf, param_grid, cv=5)\n",
        "reg2.fit(x_train, y_train)"
      ],
      "metadata": {
        "colab": {
          "base_uri": "https://localhost:8080/",
          "height": 116
        },
        "id": "mzWRbfPRfy2l",
        "outputId": "0063eff0-99f9-439b-a335-7eb9217425d4"
      },
      "execution_count": 21,
      "outputs": [
        {
          "output_type": "execute_result",
          "data": {
            "text/plain": [
              "GridSearchCV(cv=5, estimator=RandomForestRegressor(random_state=0),\n",
              "             param_grid={'max_depth': [None, 3, 5, 10, 15],\n",
              "                         'n_estimators': [100, 200, 300]})"
            ],
            "text/html": [
              "<style>#sk-container-id-2 {color: black;background-color: white;}#sk-container-id-2 pre{padding: 0;}#sk-container-id-2 div.sk-toggleable {background-color: white;}#sk-container-id-2 label.sk-toggleable__label {cursor: pointer;display: block;width: 100%;margin-bottom: 0;padding: 0.3em;box-sizing: border-box;text-align: center;}#sk-container-id-2 label.sk-toggleable__label-arrow:before {content: \"▸\";float: left;margin-right: 0.25em;color: #696969;}#sk-container-id-2 label.sk-toggleable__label-arrow:hover:before {color: black;}#sk-container-id-2 div.sk-estimator:hover label.sk-toggleable__label-arrow:before {color: black;}#sk-container-id-2 div.sk-toggleable__content {max-height: 0;max-width: 0;overflow: hidden;text-align: left;background-color: #f0f8ff;}#sk-container-id-2 div.sk-toggleable__content pre {margin: 0.2em;color: black;border-radius: 0.25em;background-color: #f0f8ff;}#sk-container-id-2 input.sk-toggleable__control:checked~div.sk-toggleable__content {max-height: 200px;max-width: 100%;overflow: auto;}#sk-container-id-2 input.sk-toggleable__control:checked~label.sk-toggleable__label-arrow:before {content: \"▾\";}#sk-container-id-2 div.sk-estimator input.sk-toggleable__control:checked~label.sk-toggleable__label {background-color: #d4ebff;}#sk-container-id-2 div.sk-label input.sk-toggleable__control:checked~label.sk-toggleable__label {background-color: #d4ebff;}#sk-container-id-2 input.sk-hidden--visually {border: 0;clip: rect(1px 1px 1px 1px);clip: rect(1px, 1px, 1px, 1px);height: 1px;margin: -1px;overflow: hidden;padding: 0;position: absolute;width: 1px;}#sk-container-id-2 div.sk-estimator {font-family: monospace;background-color: #f0f8ff;border: 1px dotted black;border-radius: 0.25em;box-sizing: border-box;margin-bottom: 0.5em;}#sk-container-id-2 div.sk-estimator:hover {background-color: #d4ebff;}#sk-container-id-2 div.sk-parallel-item::after {content: \"\";width: 100%;border-bottom: 1px solid gray;flex-grow: 1;}#sk-container-id-2 div.sk-label:hover label.sk-toggleable__label {background-color: #d4ebff;}#sk-container-id-2 div.sk-serial::before {content: \"\";position: absolute;border-left: 1px solid gray;box-sizing: border-box;top: 0;bottom: 0;left: 50%;z-index: 0;}#sk-container-id-2 div.sk-serial {display: flex;flex-direction: column;align-items: center;background-color: white;padding-right: 0.2em;padding-left: 0.2em;position: relative;}#sk-container-id-2 div.sk-item {position: relative;z-index: 1;}#sk-container-id-2 div.sk-parallel {display: flex;align-items: stretch;justify-content: center;background-color: white;position: relative;}#sk-container-id-2 div.sk-item::before, #sk-container-id-2 div.sk-parallel-item::before {content: \"\";position: absolute;border-left: 1px solid gray;box-sizing: border-box;top: 0;bottom: 0;left: 50%;z-index: -1;}#sk-container-id-2 div.sk-parallel-item {display: flex;flex-direction: column;z-index: 1;position: relative;background-color: white;}#sk-container-id-2 div.sk-parallel-item:first-child::after {align-self: flex-end;width: 50%;}#sk-container-id-2 div.sk-parallel-item:last-child::after {align-self: flex-start;width: 50%;}#sk-container-id-2 div.sk-parallel-item:only-child::after {width: 0;}#sk-container-id-2 div.sk-dashed-wrapped {border: 1px dashed gray;margin: 0 0.4em 0.5em 0.4em;box-sizing: border-box;padding-bottom: 0.4em;background-color: white;}#sk-container-id-2 div.sk-label label {font-family: monospace;font-weight: bold;display: inline-block;line-height: 1.2em;}#sk-container-id-2 div.sk-label-container {text-align: center;}#sk-container-id-2 div.sk-container {/* jupyter's `normalize.less` sets `[hidden] { display: none; }` but bootstrap.min.css set `[hidden] { display: none !important; }` so we also need the `!important` here to be able to override the default hidden behavior on the sphinx rendered scikit-learn.org. See: https://github.com/scikit-learn/scikit-learn/issues/21755 */display: inline-block !important;position: relative;}#sk-container-id-2 div.sk-text-repr-fallback {display: none;}</style><div id=\"sk-container-id-2\" class=\"sk-top-container\"><div class=\"sk-text-repr-fallback\"><pre>GridSearchCV(cv=5, estimator=RandomForestRegressor(random_state=0),\n",
              "             param_grid={&#x27;max_depth&#x27;: [None, 3, 5, 10, 15],\n",
              "                         &#x27;n_estimators&#x27;: [100, 200, 300]})</pre><b>In a Jupyter environment, please rerun this cell to show the HTML representation or trust the notebook. <br />On GitHub, the HTML representation is unable to render, please try loading this page with nbviewer.org.</b></div><div class=\"sk-container\" hidden><div class=\"sk-item sk-dashed-wrapped\"><div class=\"sk-label-container\"><div class=\"sk-label sk-toggleable\"><input class=\"sk-toggleable__control sk-hidden--visually\" id=\"sk-estimator-id-4\" type=\"checkbox\" ><label for=\"sk-estimator-id-4\" class=\"sk-toggleable__label sk-toggleable__label-arrow\">GridSearchCV</label><div class=\"sk-toggleable__content\"><pre>GridSearchCV(cv=5, estimator=RandomForestRegressor(random_state=0),\n",
              "             param_grid={&#x27;max_depth&#x27;: [None, 3, 5, 10, 15],\n",
              "                         &#x27;n_estimators&#x27;: [100, 200, 300]})</pre></div></div></div><div class=\"sk-parallel\"><div class=\"sk-parallel-item\"><div class=\"sk-item\"><div class=\"sk-label-container\"><div class=\"sk-label sk-toggleable\"><input class=\"sk-toggleable__control sk-hidden--visually\" id=\"sk-estimator-id-5\" type=\"checkbox\" ><label for=\"sk-estimator-id-5\" class=\"sk-toggleable__label sk-toggleable__label-arrow\">estimator: RandomForestRegressor</label><div class=\"sk-toggleable__content\"><pre>RandomForestRegressor(random_state=0)</pre></div></div></div><div class=\"sk-serial\"><div class=\"sk-item\"><div class=\"sk-estimator sk-toggleable\"><input class=\"sk-toggleable__control sk-hidden--visually\" id=\"sk-estimator-id-6\" type=\"checkbox\" ><label for=\"sk-estimator-id-6\" class=\"sk-toggleable__label sk-toggleable__label-arrow\">RandomForestRegressor</label><div class=\"sk-toggleable__content\"><pre>RandomForestRegressor(random_state=0)</pre></div></div></div></div></div></div></div></div></div></div>"
            ]
          },
          "metadata": {},
          "execution_count": 21
        }
      ]
    },
    {
      "cell_type": "code",
      "source": [
        "print(f\"the best parameters{reg2.best_params_}\")\n"
      ],
      "metadata": {
        "colab": {
          "base_uri": "https://localhost:8080/"
        },
        "id": "CP3oV5MeKvLc",
        "outputId": "3b7b85ef-31a1-44e8-e585-342a0508eadd"
      },
      "execution_count": 22,
      "outputs": [
        {
          "output_type": "stream",
          "name": "stdout",
          "text": [
            "the best parameters{'max_depth': 10, 'n_estimators': 200}\n"
          ]
        }
      ]
    },
    {
      "cell_type": "markdown",
      "source": [
        "# Models Evaluation"
      ],
      "metadata": {
        "id": "FF-u74AGLgns"
      }
    },
    {
      "cell_type": "code",
      "source": [
        "y_pred1 = reg1.predict(x_test)\n",
        "print(f\"RMSE: {mean_squared_error(y_test, y_pred1)}\")\n",
        "print(f\"R-squared (R2) Score: {r2_score(y_test, y_pred1)}\")\n",
        "print(f\"mean_absolute_error: {mean_absolute_error(y_test, y_pred1)}\")"
      ],
      "metadata": {
        "colab": {
          "base_uri": "https://localhost:8080/"
        },
        "id": "yf7SGcOOeqrr",
        "outputId": "9ca349a8-6d83-46cd-ba4a-1a0887f52af9"
      },
      "execution_count": 23,
      "outputs": [
        {
          "output_type": "stream",
          "name": "stdout",
          "text": [
            "RMSE: 0.0431516714026228\n",
            "R-squared (R2) Score: 0.11936420164849026\n",
            "mean_absolute_error: 0.15953299627971815\n"
          ]
        }
      ]
    },
    {
      "cell_type": "code",
      "source": [
        "y_pred2 = reg2.predict(x_test)\n",
        "print(f\"Train RMSE: {mean_squared_error(y_test, y_pred2)}\")\n",
        "print(f\" (R2) Score: {r2_score(y_test, y_pred2)}\")\n",
        "print(f\"mean_absolute_error: {mean_absolute_error(y_test, y_pred2)}\")"
      ],
      "metadata": {
        "colab": {
          "base_uri": "https://localhost:8080/"
        },
        "id": "hncxneGyf4i6",
        "outputId": "a60ffb47-a89d-4afd-81ca-8d2f7a82851a"
      },
      "execution_count": 24,
      "outputs": [
        {
          "output_type": "stream",
          "name": "stdout",
          "text": [
            "Train RMSE: 0.04313476859678241\n",
            " (R2) Score: 0.11970915273454996\n",
            "mean_absolute_error: 0.15786586430156677\n"
          ]
        }
      ]
    },
    {
      "cell_type": "markdown",
      "source": [
        "Les deux modèles ont fourni le même résultat. "
      ],
      "metadata": {
        "id": "oAN7eUsnPrh4"
      }
    },
    {
      "cell_type": "markdown",
      "source": [
        " Le RMSE et le MAE sont relativement bas, ce qui est positif, mais le R-squared est faible (0.11), ce qui signifie que les deux modeles ne peuvent prédir que 11% de la test dataset indiquant une faible capacité des modèles à expliquer les données."
      ],
      "metadata": {
        "id": "fTOZeXliTuiN"
      }
    },
    {
      "cell_type": "markdown",
      "source": [
        " Cela suggère que les deux modèles ne parviennent pas à capturer une grande partie de la variation des données et qu'il y a probablement des facteurs non pris en compte."
      ],
      "metadata": {
        "id": "Mm90ttGWTTWx"
      }
    }
  ]
}